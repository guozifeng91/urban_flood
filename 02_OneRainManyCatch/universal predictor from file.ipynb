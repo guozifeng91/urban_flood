{
 "cells": [
  {
   "cell_type": "code",
   "execution_count": 1,
   "metadata": {},
   "outputs": [],
   "source": [
    "import fe\n",
    "import load_data\n",
    "import nn_models\n",
    "import lossPloter as lp\n",
    "\n",
    "import tensorflow as tf\n",
    "import numpy as np\n",
    "from matplotlib import pyplot as plt\n",
    "\n",
    "import os\n",
    "import math\n",
    "import cv2\n",
    "import random"
   ]
  },
  {
   "cell_type": "markdown",
   "metadata": {},
   "source": [
    "load catchmant names"
   ]
  },
  {
   "cell_type": "code",
   "execution_count": 2,
   "metadata": {},
   "outputs": [
    {
     "name": "stdout",
     "output_type": "stream",
     "text": [
      "4896 2447\n"
     ]
    }
   ],
   "source": [
    "patches_root = \"test_topo/numpysave\"\n",
    "\n",
    "seed = 1\n",
    "propotion = 3\n",
    "\n",
    "patch_size = 128\n",
    "\n",
    "channels = 1\n",
    "patch_shape = (patch_size,patch_size,channels + 1)\n",
    "fortran_order = True\n",
    "\n",
    "patches_files = [os.path.join(patches_root,f) for f in os.listdir(patches_root)]\n",
    "\n",
    "random.seed(seed)\n",
    "random.shuffle(patches_files)\n",
    "\n",
    "patches_files_train = patches_files[len(patches_files)//propotion:]\n",
    "patches_files_test = patches_files[:len(patches_files)//propotion]\n",
    "\n",
    "print(len(patches_files_train),len(patches_files_test))"
   ]
  },
  {
   "cell_type": "markdown",
   "metadata": {},
   "source": [
    "build the CNN model"
   ]
  },
  {
   "cell_type": "code",
   "execution_count": 3,
   "metadata": {},
   "outputs": [
    {
     "name": "stdout",
     "output_type": "stream",
     "text": [
      "kernel [7, 7] in_channel 1 out_channel 32\n",
      "\t Tensor(\"encode-0_c_0:0\", shape=(?, 128, 128, 32), dtype=float32)\n",
      "\t Tensor(\"encode-0_c_1:0\", shape=(?, 128, 128, 32), dtype=float32)\n",
      "\t Tensor(\"encode-0:0\", shape=(?, 64, 64, 32), dtype=float32)\n",
      "kernel [7, 7] in_channel 32 out_channel 64\n",
      "\t Tensor(\"encode-1_c_0:0\", shape=(?, 64, 64, 64), dtype=float32)\n",
      "\t Tensor(\"encode-1_c_1:0\", shape=(?, 64, 64, 64), dtype=float32)\n",
      "\t Tensor(\"encode-1:0\", shape=(?, 32, 32, 64), dtype=float32)\n",
      "kernel [7, 7] in_channel 64 out_channel 128\n",
      "\t Tensor(\"encode-2_c_0:0\", shape=(?, 32, 32, 128), dtype=float32)\n",
      "\t Tensor(\"encode-2_c_1:0\", shape=(?, 32, 32, 128), dtype=float32)\n",
      "\t Tensor(\"encode-2:0\", shape=(?, 16, 16, 128), dtype=float32)\n",
      "kernel [7, 7] in_channel 128 out_channel 128\n",
      "\t Tensor(\"encode-3_c_0:0\", shape=(?, 16, 16, 128), dtype=float32)\n",
      "\t Tensor(\"encode-3_c_1:0\", shape=(?, 16, 16, 128), dtype=float32)\n",
      "\t Tensor(\"encode-3:0\", shape=(?, 8, 8, 128), dtype=float32)\n",
      "kernel [7, 7] in_channel 128 out_channel 128\n",
      "output shape [16, 16]\n",
      "\t Tensor(\"decode-3_dc_:0\", shape=(?, 16, 16, 128), dtype=float32)\n",
      "\t Tensor(\"decode-3_c_0:0\", shape=(?, 16, 16, 128), dtype=float32)\n",
      "\t Tensor(\"decode-3:0\", shape=(?, 16, 16, 128), dtype=float32)\n",
      "kernel [7, 7] in_channel 128 out_channel 64\n",
      "output shape [32, 32]\n",
      "\t Tensor(\"decode-2_dc_:0\", shape=(?, 32, 32, 128), dtype=float32)\n",
      "\t Tensor(\"decode-2_c_0:0\", shape=(?, 32, 32, 128), dtype=float32)\n",
      "\t Tensor(\"decode-2:0\", shape=(?, 32, 32, 64), dtype=float32)\n",
      "kernel [7, 7] in_channel 64 out_channel 32\n",
      "output shape [64, 64]\n",
      "\t Tensor(\"decode-1_dc_:0\", shape=(?, 64, 64, 64), dtype=float32)\n",
      "\t Tensor(\"decode-1_c_0:0\", shape=(?, 64, 64, 64), dtype=float32)\n",
      "\t Tensor(\"decode-1:0\", shape=(?, 64, 64, 32), dtype=float32)\n",
      "kernel [7, 7] in_channel 32 out_channel 1\n",
      "output shape [128, 128]\n",
      "\t Tensor(\"decode-0_dc_:0\", shape=(?, 128, 128, 32), dtype=float32)\n",
      "\t Tensor(\"decode-0_c_0:0\", shape=(?, 128, 128, 32), dtype=float32)\n",
      "\t Tensor(\"decode-0:0\", shape=(?, 128, 128, 1), dtype=float32)\n"
     ]
    }
   ],
   "source": [
    "nnmodel = nn_models.segnet_256_k7_2(channels, 1,img_size=patch_size)"
   ]
  },
  {
   "cell_type": "markdown",
   "metadata": {},
   "source": [
    "generate patches from files\n",
    "\n",
    "note that:\n",
    "\n",
    "1. this must be done using the same graph where CNN is constructed, therefore the code is placed after nnmodel\n",
    "\n",
    "2. be very careful with fortran_order, it affect the results"
   ]
  },
  {
   "cell_type": "code",
   "execution_count": 4,
   "metadata": {},
   "outputs": [],
   "source": [
    "# (Ellipsis, 0) means if all channels is 0\n",
    "patch_train = load_data.PatchFromFile(patches_files_train, patch_shape, tf.float32, fortran_order=fortran_order, batch_size=8, shuffle=1000)\n",
    "patch_test = load_data.PatchFromFile(patches_files_test, patch_shape, tf.float32, fortran_order=fortran_order, batch_size=8, shuffle=1000)"
   ]
  },
  {
   "cell_type": "markdown",
   "metadata": {},
   "source": [
    "loss and training operations"
   ]
  },
  {
   "cell_type": "code",
   "execution_count": 4,
   "metadata": {},
   "outputs": [],
   "source": [
    "LR = 0.0002\n",
    "\n",
    "nnmodel.phs[\"y\"] = tf.placeholder(tf.float32,(None,patch_size,patch_size),name=\"y\")\n",
    "nnmodel.ls[\"loss\"] = tf.reduce_mean(tf.square(nnmodel.phs[\"y\"] - nnmodel.ls[\"prediction\"]),name=\"loss\")\n",
    "train_op = tf.train.AdamOptimizer(LR).minimize(nnmodel.ls[\"loss\"])\n",
    "loss_op = nnmodel.ls[\"loss\"]"
   ]
  },
  {
   "cell_type": "code",
   "execution_count": 5,
   "metadata": {},
   "outputs": [
    {
     "name": "stdout",
     "output_type": "stream",
     "text": [
      "model segnet_kernel7_2-test_topo will be tested in folder test_folder_segnet_kernel7_2-test_topo\n"
     ]
    }
   ],
   "source": [
    "model_path = \"trained_models\"\n",
    "model_name = nnmodel.name + \"-\" + \"test_topo\"\n",
    "\n",
    "test_folder = \"test_folder_\" + model_name\n",
    "\n",
    "print(\"model\", model_name, \"will be tested in folder\", test_folder)\n",
    "\n",
    "# make the test folder\n",
    "if not os.path.exists(test_folder):\n",
    "    os.mkdir(test_folder)"
   ]
  },
  {
   "cell_type": "markdown",
   "metadata": {},
   "source": [
    "start session"
   ]
  },
  {
   "cell_type": "code",
   "execution_count": 6,
   "metadata": {},
   "outputs": [],
   "source": [
    "sess = tf.Session()\n",
    "tf.global_variables_initializer().run(session=sess)\n",
    "saver = tf.train.Saver()"
   ]
  },
  {
   "cell_type": "markdown",
   "metadata": {},
   "source": [
    "start training"
   ]
  },
  {
   "cell_type": "code",
   "execution_count": 8,
   "metadata": {},
   "outputs": [
    {
     "name": "stdout",
     "output_type": "stream",
     "text": [
      "training\n",
      "epoch 0 train_loss 0.056762718485997 test_loss 0.05048177335898276\n",
      "epoch 1 train_loss 0.04330683366267705 test_loss 0.03769178269735349\n",
      "epoch 2 train_loss 0.03604618183967164 test_loss 0.03539321742635342\n",
      "epoch 3 train_loss 0.03266479863687814 test_loss 0.03245841345926321\n",
      "epoch 4 train_loss 0.030655489259040335 test_loss 0.030456330152411087\n",
      "epoch 5 train_loss 0.029021839810584007 test_loss 0.030901489870659278\n",
      "epoch 6 train_loss 0.02779606595069316 test_loss 0.028589859750925328\n",
      "epoch 7 train_loss 0.0266024280625572 test_loss 0.027850266892974283\n",
      "epoch 8 train_loss 0.025582977597985196 test_loss 0.028003193127612274\n",
      "epoch 9 train_loss 0.02467096725545726 test_loss 0.02725067304666428\n",
      "epoch 10 train_loss 0.02367552944452934 test_loss 0.026695137580223623\n",
      "epoch 11 train_loss 0.022856390459030818 test_loss 0.026393504429827717\n",
      "epoch 12 train_loss 0.022080127321780215 test_loss 0.026120493142847336\n",
      "epoch 13 train_loss 0.02147386244230362 test_loss 0.02603126044866014\n",
      "epoch 14 train_loss 0.020897047833107363 test_loss 0.026141234898781465\n",
      "epoch 15 train_loss 0.01998135593439775 test_loss 0.025948945289855106\n",
      "epoch 16 train_loss 0.019371613715562265 test_loss 0.025793082114260377\n",
      "epoch 17 train_loss 0.018843262754624186 test_loss 0.025999419467243687\n",
      "epoch 18 train_loss 0.018200614604508517 test_loss 0.02603217235346343\n",
      "epoch 19 train_loss 0.01821220705736112 test_loss 0.02595800563717395\n"
     ]
    },
    {
     "ename": "KeyboardInterrupt",
     "evalue": "",
     "output_type": "error",
     "traceback": [
      "\u001b[1;31m---------------------------------------------------------------------------\u001b[0m",
      "\u001b[1;31mKeyboardInterrupt\u001b[0m                         Traceback (most recent call last)",
      "\u001b[1;32m<ipython-input-8-ad12a0f78e71>\u001b[0m in \u001b[0;36m<module>\u001b[1;34m()\u001b[0m\n\u001b[0;32m     51\u001b[0m             \u001b[0m_\u001b[0m\u001b[1;33m,\u001b[0m \u001b[0mloss_val\u001b[0m \u001b[1;33m=\u001b[0m \u001b[0msess\u001b[0m\u001b[1;33m.\u001b[0m\u001b[0mrun\u001b[0m\u001b[1;33m(\u001b[0m\u001b[1;33m[\u001b[0m\u001b[0mtrain_op\u001b[0m\u001b[1;33m,\u001b[0m\u001b[0mloss_op\u001b[0m\u001b[1;33m]\u001b[0m\u001b[1;33m,\u001b[0m \u001b[0mfeed_dict\u001b[0m\u001b[1;33m=\u001b[0m\u001b[1;33m{\u001b[0m\u001b[0mphs\u001b[0m\u001b[1;33m[\u001b[0m\u001b[1;34m\"x\"\u001b[0m\u001b[1;33m]\u001b[0m\u001b[1;33m:\u001b[0m\u001b[0mxy\u001b[0m\u001b[1;33m[\u001b[0m\u001b[1;33m:\u001b[0m\u001b[1;33m,\u001b[0m\u001b[1;33m:\u001b[0m\u001b[1;33m,\u001b[0m\u001b[1;33m:\u001b[0m\u001b[1;33m,\u001b[0m\u001b[1;33m:\u001b[0m\u001b[1;33m-\u001b[0m\u001b[1;36m1\u001b[0m\u001b[1;33m]\u001b[0m\u001b[1;33m,\u001b[0m \u001b[0mphs\u001b[0m\u001b[1;33m[\u001b[0m\u001b[1;34m\"y\"\u001b[0m\u001b[1;33m]\u001b[0m\u001b[1;33m:\u001b[0m\u001b[0mxy\u001b[0m\u001b[1;33m[\u001b[0m\u001b[1;33m:\u001b[0m\u001b[1;33m,\u001b[0m\u001b[1;33m:\u001b[0m\u001b[1;33m,\u001b[0m\u001b[1;33m:\u001b[0m\u001b[1;33m,\u001b[0m\u001b[1;33m-\u001b[0m\u001b[1;36m1\u001b[0m\u001b[1;33m]\u001b[0m\u001b[1;33m}\u001b[0m\u001b[1;33m)\u001b[0m\u001b[1;33m\u001b[0m\u001b[0m\n\u001b[0;32m     52\u001b[0m         \u001b[1;32melse\u001b[0m\u001b[1;33m:\u001b[0m\u001b[1;33m\u001b[0m\u001b[0m\n\u001b[1;32m---> 53\u001b[1;33m             \u001b[0m_\u001b[0m\u001b[1;33m,\u001b[0m \u001b[0mloss_val\u001b[0m \u001b[1;33m=\u001b[0m \u001b[0msess\u001b[0m\u001b[1;33m.\u001b[0m\u001b[0mrun\u001b[0m\u001b[1;33m(\u001b[0m\u001b[1;33m[\u001b[0m\u001b[0mtrain_op\u001b[0m\u001b[1;33m,\u001b[0m\u001b[0mloss_op\u001b[0m\u001b[1;33m]\u001b[0m\u001b[1;33m,\u001b[0m \u001b[0mfeed_dict\u001b[0m\u001b[1;33m=\u001b[0m\u001b[1;33m{\u001b[0m\u001b[0mphs\u001b[0m\u001b[1;33m[\u001b[0m\u001b[1;34m\"x\"\u001b[0m\u001b[1;33m]\u001b[0m\u001b[1;33m:\u001b[0m\u001b[0mxy\u001b[0m\u001b[1;33m[\u001b[0m\u001b[1;33m:\u001b[0m\u001b[1;33m,\u001b[0m\u001b[1;33m:\u001b[0m\u001b[1;33m,\u001b[0m\u001b[1;33m:\u001b[0m\u001b[1;33m,\u001b[0m\u001b[1;36m0\u001b[0m\u001b[1;33m]\u001b[0m\u001b[1;33m,\u001b[0m \u001b[0mphs\u001b[0m\u001b[1;33m[\u001b[0m\u001b[1;34m\"y\"\u001b[0m\u001b[1;33m]\u001b[0m\u001b[1;33m:\u001b[0m\u001b[0mxy\u001b[0m\u001b[1;33m[\u001b[0m\u001b[1;33m:\u001b[0m\u001b[1;33m,\u001b[0m\u001b[1;33m:\u001b[0m\u001b[1;33m,\u001b[0m\u001b[1;33m:\u001b[0m\u001b[1;33m,\u001b[0m\u001b[1;33m-\u001b[0m\u001b[1;36m1\u001b[0m\u001b[1;33m]\u001b[0m\u001b[1;33m}\u001b[0m\u001b[1;33m)\u001b[0m\u001b[1;33m\u001b[0m\u001b[0m\n\u001b[0m\u001b[0;32m     54\u001b[0m \u001b[1;33m\u001b[0m\u001b[0m\n\u001b[0;32m     55\u001b[0m         \u001b[1;31m# record batch loss\u001b[0m\u001b[1;33m\u001b[0m\u001b[1;33m\u001b[0m\u001b[0m\n",
      "\u001b[1;32mc:\\users\\guo zifeng\\appdata\\local\\programs\\python\\python35\\lib\\site-packages\\tensorflow\\python\\client\\session.py\u001b[0m in \u001b[0;36mrun\u001b[1;34m(self, fetches, feed_dict, options, run_metadata)\u001b[0m\n\u001b[0;32m    875\u001b[0m     \u001b[1;32mtry\u001b[0m\u001b[1;33m:\u001b[0m\u001b[1;33m\u001b[0m\u001b[0m\n\u001b[0;32m    876\u001b[0m       result = self._run(None, fetches, feed_dict, options_ptr,\n\u001b[1;32m--> 877\u001b[1;33m                          run_metadata_ptr)\n\u001b[0m\u001b[0;32m    878\u001b[0m       \u001b[1;32mif\u001b[0m \u001b[0mrun_metadata\u001b[0m\u001b[1;33m:\u001b[0m\u001b[1;33m\u001b[0m\u001b[0m\n\u001b[0;32m    879\u001b[0m         \u001b[0mproto_data\u001b[0m \u001b[1;33m=\u001b[0m \u001b[0mtf_session\u001b[0m\u001b[1;33m.\u001b[0m\u001b[0mTF_GetBuffer\u001b[0m\u001b[1;33m(\u001b[0m\u001b[0mrun_metadata_ptr\u001b[0m\u001b[1;33m)\u001b[0m\u001b[1;33m\u001b[0m\u001b[0m\n",
      "\u001b[1;32mc:\\users\\guo zifeng\\appdata\\local\\programs\\python\\python35\\lib\\site-packages\\tensorflow\\python\\client\\session.py\u001b[0m in \u001b[0;36m_run\u001b[1;34m(self, handle, fetches, feed_dict, options, run_metadata)\u001b[0m\n\u001b[0;32m   1098\u001b[0m     \u001b[1;32mif\u001b[0m \u001b[0mfinal_fetches\u001b[0m \u001b[1;32mor\u001b[0m \u001b[0mfinal_targets\u001b[0m \u001b[1;32mor\u001b[0m \u001b[1;33m(\u001b[0m\u001b[0mhandle\u001b[0m \u001b[1;32mand\u001b[0m \u001b[0mfeed_dict_tensor\u001b[0m\u001b[1;33m)\u001b[0m\u001b[1;33m:\u001b[0m\u001b[1;33m\u001b[0m\u001b[0m\n\u001b[0;32m   1099\u001b[0m       results = self._do_run(handle, final_targets, final_fetches,\n\u001b[1;32m-> 1100\u001b[1;33m                              feed_dict_tensor, options, run_metadata)\n\u001b[0m\u001b[0;32m   1101\u001b[0m     \u001b[1;32melse\u001b[0m\u001b[1;33m:\u001b[0m\u001b[1;33m\u001b[0m\u001b[0m\n\u001b[0;32m   1102\u001b[0m       \u001b[0mresults\u001b[0m \u001b[1;33m=\u001b[0m \u001b[1;33m[\u001b[0m\u001b[1;33m]\u001b[0m\u001b[1;33m\u001b[0m\u001b[0m\n",
      "\u001b[1;32mc:\\users\\guo zifeng\\appdata\\local\\programs\\python\\python35\\lib\\site-packages\\tensorflow\\python\\client\\session.py\u001b[0m in \u001b[0;36m_do_run\u001b[1;34m(self, handle, target_list, fetch_list, feed_dict, options, run_metadata)\u001b[0m\n\u001b[0;32m   1270\u001b[0m     \u001b[1;32mif\u001b[0m \u001b[0mhandle\u001b[0m \u001b[1;32mis\u001b[0m \u001b[1;32mNone\u001b[0m\u001b[1;33m:\u001b[0m\u001b[1;33m\u001b[0m\u001b[0m\n\u001b[0;32m   1271\u001b[0m       return self._do_call(_run_fn, feeds, fetches, targets, options,\n\u001b[1;32m-> 1272\u001b[1;33m                            run_metadata)\n\u001b[0m\u001b[0;32m   1273\u001b[0m     \u001b[1;32melse\u001b[0m\u001b[1;33m:\u001b[0m\u001b[1;33m\u001b[0m\u001b[0m\n\u001b[0;32m   1274\u001b[0m       \u001b[1;32mreturn\u001b[0m \u001b[0mself\u001b[0m\u001b[1;33m.\u001b[0m\u001b[0m_do_call\u001b[0m\u001b[1;33m(\u001b[0m\u001b[0m_prun_fn\u001b[0m\u001b[1;33m,\u001b[0m \u001b[0mhandle\u001b[0m\u001b[1;33m,\u001b[0m \u001b[0mfeeds\u001b[0m\u001b[1;33m,\u001b[0m \u001b[0mfetches\u001b[0m\u001b[1;33m)\u001b[0m\u001b[1;33m\u001b[0m\u001b[0m\n",
      "\u001b[1;32mc:\\users\\guo zifeng\\appdata\\local\\programs\\python\\python35\\lib\\site-packages\\tensorflow\\python\\client\\session.py\u001b[0m in \u001b[0;36m_do_call\u001b[1;34m(self, fn, *args)\u001b[0m\n\u001b[0;32m   1276\u001b[0m   \u001b[1;32mdef\u001b[0m \u001b[0m_do_call\u001b[0m\u001b[1;33m(\u001b[0m\u001b[0mself\u001b[0m\u001b[1;33m,\u001b[0m \u001b[0mfn\u001b[0m\u001b[1;33m,\u001b[0m \u001b[1;33m*\u001b[0m\u001b[0margs\u001b[0m\u001b[1;33m)\u001b[0m\u001b[1;33m:\u001b[0m\u001b[1;33m\u001b[0m\u001b[0m\n\u001b[0;32m   1277\u001b[0m     \u001b[1;32mtry\u001b[0m\u001b[1;33m:\u001b[0m\u001b[1;33m\u001b[0m\u001b[0m\n\u001b[1;32m-> 1278\u001b[1;33m       \u001b[1;32mreturn\u001b[0m \u001b[0mfn\u001b[0m\u001b[1;33m(\u001b[0m\u001b[1;33m*\u001b[0m\u001b[0margs\u001b[0m\u001b[1;33m)\u001b[0m\u001b[1;33m\u001b[0m\u001b[0m\n\u001b[0m\u001b[0;32m   1279\u001b[0m     \u001b[1;32mexcept\u001b[0m \u001b[0merrors\u001b[0m\u001b[1;33m.\u001b[0m\u001b[0mOpError\u001b[0m \u001b[1;32mas\u001b[0m \u001b[0me\u001b[0m\u001b[1;33m:\u001b[0m\u001b[1;33m\u001b[0m\u001b[0m\n\u001b[0;32m   1280\u001b[0m       \u001b[0mmessage\u001b[0m \u001b[1;33m=\u001b[0m \u001b[0mcompat\u001b[0m\u001b[1;33m.\u001b[0m\u001b[0mas_text\u001b[0m\u001b[1;33m(\u001b[0m\u001b[0me\u001b[0m\u001b[1;33m.\u001b[0m\u001b[0mmessage\u001b[0m\u001b[1;33m)\u001b[0m\u001b[1;33m\u001b[0m\u001b[0m\n",
      "\u001b[1;32mc:\\users\\guo zifeng\\appdata\\local\\programs\\python\\python35\\lib\\site-packages\\tensorflow\\python\\client\\session.py\u001b[0m in \u001b[0;36m_run_fn\u001b[1;34m(feed_dict, fetch_list, target_list, options, run_metadata)\u001b[0m\n\u001b[0;32m   1261\u001b[0m       \u001b[0mself\u001b[0m\u001b[1;33m.\u001b[0m\u001b[0m_extend_graph\u001b[0m\u001b[1;33m(\u001b[0m\u001b[1;33m)\u001b[0m\u001b[1;33m\u001b[0m\u001b[0m\n\u001b[0;32m   1262\u001b[0m       return self._call_tf_sessionrun(\n\u001b[1;32m-> 1263\u001b[1;33m           options, feed_dict, fetch_list, target_list, run_metadata)\n\u001b[0m\u001b[0;32m   1264\u001b[0m \u001b[1;33m\u001b[0m\u001b[0m\n\u001b[0;32m   1265\u001b[0m     \u001b[1;32mdef\u001b[0m \u001b[0m_prun_fn\u001b[0m\u001b[1;33m(\u001b[0m\u001b[0mhandle\u001b[0m\u001b[1;33m,\u001b[0m \u001b[0mfeed_dict\u001b[0m\u001b[1;33m,\u001b[0m \u001b[0mfetch_list\u001b[0m\u001b[1;33m)\u001b[0m\u001b[1;33m:\u001b[0m\u001b[1;33m\u001b[0m\u001b[0m\n",
      "\u001b[1;32mc:\\users\\guo zifeng\\appdata\\local\\programs\\python\\python35\\lib\\site-packages\\tensorflow\\python\\client\\session.py\u001b[0m in \u001b[0;36m_call_tf_sessionrun\u001b[1;34m(self, options, feed_dict, fetch_list, target_list, run_metadata)\u001b[0m\n\u001b[0;32m   1348\u001b[0m     return tf_session.TF_SessionRun_wrapper(\n\u001b[0;32m   1349\u001b[0m         \u001b[0mself\u001b[0m\u001b[1;33m.\u001b[0m\u001b[0m_session\u001b[0m\u001b[1;33m,\u001b[0m \u001b[0moptions\u001b[0m\u001b[1;33m,\u001b[0m \u001b[0mfeed_dict\u001b[0m\u001b[1;33m,\u001b[0m \u001b[0mfetch_list\u001b[0m\u001b[1;33m,\u001b[0m \u001b[0mtarget_list\u001b[0m\u001b[1;33m,\u001b[0m\u001b[1;33m\u001b[0m\u001b[0m\n\u001b[1;32m-> 1350\u001b[1;33m         run_metadata)\n\u001b[0m\u001b[0;32m   1351\u001b[0m \u001b[1;33m\u001b[0m\u001b[0m\n\u001b[0;32m   1352\u001b[0m   \u001b[1;32mdef\u001b[0m \u001b[0m_call_tf_sessionprun\u001b[0m\u001b[1;33m(\u001b[0m\u001b[0mself\u001b[0m\u001b[1;33m,\u001b[0m \u001b[0mhandle\u001b[0m\u001b[1;33m,\u001b[0m \u001b[0mfeed_dict\u001b[0m\u001b[1;33m,\u001b[0m \u001b[0mfetch_list\u001b[0m\u001b[1;33m)\u001b[0m\u001b[1;33m:\u001b[0m\u001b[1;33m\u001b[0m\u001b[0m\n",
      "\u001b[1;31mKeyboardInterrupt\u001b[0m: "
     ]
    }
   ],
   "source": [
    "last_epoch = 0\n",
    "model_id = \"/-\" + str(last_epoch-1)\n",
    "\n",
    "epoch = 40\n",
    "save_freq = 10\n",
    "\n",
    "phs = nnmodel.phs\n",
    "\n",
    "# loss calculator\n",
    "train_loss = lp.Epoch_Loss()\n",
    "test_loss = lp.Epoch_Loss()\n",
    "\n",
    "%matplotlib qt\n",
    "ploter = lp.Loss_Ploter()\n",
    "\n",
    "# recover the loss record\n",
    "if last_epoch > 0:\n",
    "    print(\"restoring\")\n",
    "    ploter.load_record(model_path, model_name)\n",
    "    saver.restore(sess,os.path.join(model_path,model_name+model_id))\n",
    "\n",
    "print(\"training\")\n",
    "\n",
    "patch_train.set_session(sess)\n",
    "patch_test.set_session(sess)\n",
    "\n",
    "debug = True\n",
    "\n",
    "for e in range(epoch):\n",
    "    test_loss.clear()\n",
    "    train_loss.clear()\n",
    "\n",
    "    # 1. training\n",
    "    while not patch_train.end_of_epoch():\n",
    "        \n",
    "        xy=patch_train.next_batch()\n",
    "        \n",
    "        # debug\n",
    "        if debug:\n",
    "            plt.figure(figsize=(12,6))\n",
    "            plt.subplot(1,2,1)\n",
    "            plt.imshow(xy[0,:,:,0],vmin=0,vmax=1)\n",
    "            plt.subplot(1,2,2)\n",
    "            plt.imshow(xy[0,:,:,-1],vmin=0,vmax=1)\n",
    "            plt.savefig(\"debug.png\")\n",
    "            plt.close()\n",
    "            \n",
    "            debug=False\n",
    "        \n",
    "        if channels > 1:\n",
    "            _, loss_val = sess.run([train_op,loss_op], feed_dict={phs[\"x\"]:xy[:,:,:,:-1], phs[\"y\"]:xy[:,:,:,-1]})\n",
    "        else:\n",
    "            _, loss_val = sess.run([train_op,loss_op], feed_dict={phs[\"x\"]:xy[:,:,:,0], phs[\"y\"]:xy[:,:,:,-1]})\n",
    "            \n",
    "        # record batch loss\n",
    "        train_loss.put_batch(loss_val)\n",
    "        ploter.put_batch_loss(loss_val)\n",
    "\n",
    "        # display batch loss curve\n",
    "        if (ploter.count % 6==5):\n",
    "            ploter.plot()\n",
    "\n",
    "    # 2. testing\n",
    "    while not patch_test.end_of_epoch():\n",
    "        xy=patch_test.next_batch()\n",
    "        if channels > 1:\n",
    "            loss_val = sess.run(loss_op, feed_dict={phs[\"x\"]:xy[:,:,:,:-1], phs[\"y\"]:xy[:,:,:,-1]})\n",
    "        else:\n",
    "            loss_val = sess.run(loss_op, feed_dict={phs[\"x\"]:xy[:,:,:,0], phs[\"y\"]:xy[:,:,:,-1]})\n",
    "            \n",
    "        test_loss.put_batch(loss_val)\n",
    "\n",
    "    ploter.put_epoch_loss(train_loss.get_epoch_loss(), test_loss.get_epoch_loss())\n",
    "    print(\"epoch\",e + last_epoch, \"train_loss\",train_loss.get_epoch_loss(),\"test_loss\",test_loss.get_epoch_loss())\n",
    "    ploter.plot()\n",
    "    ploter.savefig(\"training_plot.png\")\n",
    "\n",
    "    if e % save_freq == save_freq-1:\n",
    "        saver.save(sess, os.path.join(model_path, model_name+\"/\"),e + last_epoch)\n",
    "        ploter.save_record(model_path, model_name)\n",
    "\n",
    "ploter.close()\n",
    "%matplotlib inline"
   ]
  },
  {
   "cell_type": "markdown",
   "metadata": {},
   "source": [
    "testing"
   ]
  },
  {
   "cell_type": "code",
   "execution_count": 7,
   "metadata": {},
   "outputs": [],
   "source": [
    "def savepng(filename, img_array):\n",
    "    cv2.imwrite(filename,cv2.cvtColor(img_array,cv2.COLOR_RGBA2BGRA))\n",
    "\n",
    "def render(nd_array, cmap, vmin=0, vmax = 1, mask_indice=None):\n",
    "    nd_array = (cmap((nd_array - vmin) / (vmax - vmin))*255).astype(np.uint8)\n",
    "    if mask_indice is not None:\n",
    "        nd_array[mask_indice] *= 0\n",
    "    return nd_array\n",
    "\n",
    "def run_test_in_session(model, sess, patch_array, channel_num):\n",
    "    ls = model.ls\n",
    "    phs = model.phs\n",
    "    \n",
    "    patch_array = np.array([patch_array])\n",
    "    \n",
    "    if channel_num > 1:\n",
    "        result = sess.run(ls[\"prediction\"], feed_dict={phs[\"x\"]:patch_array[:,:,:,:-1]})\n",
    "    else:\n",
    "        result = sess.run(ls[\"prediction\"], feed_dict={phs[\"x\"]:patch_array[:,:,:,0]})\n",
    "    \n",
    "    if len(result)==1:\n",
    "        return result[0]\n",
    "    else:\n",
    "        return result"
   ]
  },
  {
   "cell_type": "code",
   "execution_count": 9,
   "metadata": {},
   "outputs": [
    {
     "name": "stdout",
     "output_type": "stream",
     "text": [
      "restoring\n",
      "INFO:tensorflow:Restoring parameters from trained_models\\segnet_kernel7_2-test_topo/-19\n",
      "testing\n"
     ]
    }
   ],
   "source": [
    "%matplotlib inline\n",
    "\n",
    "last_epoch = 20\n",
    "model_id = \"/-\" + str(last_epoch-1)\n",
    "\n",
    "print(\"restoring\")\n",
    "saver.restore(sess,os.path.join(model_path,model_name+model_id))\n",
    "# tf.global_variables_initializer().run(session=sess)\n",
    "\n",
    "print(\"testing\")\n",
    "\n",
    "for i in range(50):\n",
    "    nd_image = np.load(patches_files_train[i])\n",
    "    result = run_test_in_session(nnmodel, sess, nd_image, channels)\n",
    "    \n",
    "    plt.figure(figsize=(6,18))\n",
    "    plt.subplot(3,1,1)\n",
    "    #plt.title(\"Input\")\n",
    "    plt.imshow(nd_image[:,:,0].T,cmap=\"gray\",vmin=0,vmax=1)\n",
    "    plt.subplot(3,1,2)\n",
    "    #plt.title(\"Optimized\")\n",
    "    plt.imshow(nd_image[:,:,-1].T,cmap=\"gray\",vmin=0,vmax=1)\n",
    "    plt.subplot(3,1,3)\n",
    "    #plt.title(\"Synthesized\")\n",
    "    plt.imshow(result.T,cmap=\"gray\",vmin=0,vmax=1)\n",
    "    plt.savefig(os.path.join(test_folder,\"train_\"+str(i)+\".png\"), dpi=300)\n",
    "    plt.close()\n",
    "\n",
    "for i in range(50):\n",
    "    nd_image = np.load(patches_files_test[i])\n",
    "    result = run_test_in_session(nnmodel, sess, nd_image, channels)\n",
    "    \n",
    "    plt.figure(figsize=(6,18))\n",
    "    plt.subplot(3,1,1)\n",
    "    #plt.title(\"Input\")\n",
    "    plt.imshow(nd_image[:,:,0].T,cmap=\"gray\",vmin=0,vmax=1)\n",
    "    plt.subplot(3,1,2)\n",
    "    #plt.title(\"Optimized\")\n",
    "    plt.imshow(nd_image[:,:,-1].T,cmap=\"gray\",vmin=0,vmax=1)\n",
    "    plt.subplot(3,1,3)\n",
    "    #plt.title(\"Synthesized\")\n",
    "    plt.imshow(result.T,cmap=\"gray\",vmin=0,vmax=1)\n",
    "    plt.savefig(os.path.join(test_folder,\"test_\"+str(i)+\".png\"), dpi=300)\n",
    "    plt.close()"
   ]
  },
  {
   "cell_type": "code",
   "execution_count": 48,
   "metadata": {},
   "outputs": [
    {
     "data": {
      "text/plain": [
       "<matplotlib.image.AxesImage at 0x193a6c23550>"
      ]
     },
     "execution_count": 48,
     "metadata": {},
     "output_type": "execute_result"
    },
    {
     "data": {
      "image/png": "[encoded data removed]",
      "text/plain": [
       "<Figure size 432x288 with 1 Axes>"
      ]
     },
     "metadata": {},
     "output_type": "display_data"
    }
   ],
   "source": [
    "nd_image = np.load(patches_files_train[35])\n",
    "\n",
    "plt.imshow(nd_image[:,:,0])"
   ]
  },
  {
   "cell_type": "code",
   "execution_count": 13,
   "metadata": {},
   "outputs": [
    {
     "data": {
      "text/plain": [
       "<matplotlib.image.AxesImage at 0x2ab00e6b6a0>"
      ]
     },
     "execution_count": 13,
     "metadata": {},
     "output_type": "execute_result"
    },
    {
     "data": {
      "image/png": "[encoded data removed]",
      "text/plain": [
       "<Figure size 432x288 with 1 Axes>"
      ]
     },
     "metadata": {},
     "output_type": "display_data"
    }
   ],
   "source": [
    "nd_image = np.load(os.path.join(patches_root,files[1970]))\n",
    "\n",
    "plt.imshow(nd_image[:,:].T)"
   ]
  },
  {
   "cell_type": "code",
   "execution_count": 14,
   "metadata": {},
   "outputs": [
    {
     "data": {
      "text/plain": [
       "<matplotlib.image.AxesImage at 0x2ab00edccc0>"
      ]
     },
     "execution_count": 14,
     "metadata": {},
     "output_type": "execute_result"
    },
    {
     "data": {
      "image/png": "[encoded data removed]",
      "text/plain": [
       "<Figure size 432x288 with 1 Axes>"
      ]
     },
     "metadata": {},
     "output_type": "display_data"
    }
   ],
   "source": [
    "nd_image = np.load(os.path.join(result_root,files[1970]))\n",
    "\n",
    "plt.imshow(nd_image[:,:].T)"
   ]
  },
  {
   "cell_type": "code",
   "execution_count": 8,
   "metadata": {},
   "outputs": [],
   "source": [
    "patches_root = \"C:\\\\Users\\\\guo zifeng\\\\Desktop\\\\topologyOpt\\\\inputs\"\n",
    "files = os.listdir(patches_root)\n",
    "\n",
    "result_root = \"C:\\\\Users\\\\guo zifeng\\\\Desktop\\\\topologyOpt\\\\outputs\""
   ]
  },
  {
   "cell_type": "code",
   "execution_count": 11,
   "metadata": {},
   "outputs": [
    {
     "name": "stdout",
     "output_type": "stream",
     "text": [
      "restoring\n",
      "INFO:tensorflow:Restoring parameters from trained_models\\segnet_kernel7_2-test_topo/-19\n"
     ]
    }
   ],
   "source": [
    "last_epoch = 20\n",
    "model_id = \"/-\" + str(last_epoch-1)\n",
    "\n",
    "print(\"restoring\")\n",
    "saver.restore(sess,os.path.join(model_path,model_name+model_id))\n",
    "# tf.global_variables_initializer().run(session=sess)\n",
    "\n",
    "for f in files:\n",
    "    nd_image = np.load(os.path.join(patches_root,f))[...,None]\n",
    "    result = run_test_in_session(nnmodel, sess, nd_image, channels)\n",
    "    np.save(os.path.join(result_root,f), result)"
   ]
  },
  {
   "cell_type": "code",
   "execution_count": 16,
   "metadata": {},
   "outputs": [
    {
     "data": {
      "text/plain": [
       "'2772.npy'"
      ]
     },
     "execution_count": 16,
     "metadata": {},
     "output_type": "execute_result"
    }
   ],
   "source": [
    "files[1970]"
   ]
  },
  {
   "cell_type": "code",
   "execution_count": null,
   "metadata": {},
   "outputs": [],
   "source": []
  }
 ],
 "metadata": {
  "kernelspec": {
   "display_name": "Python 3",
   "language": "python",
   "name": "python3"
  },
  "language_info": {
   "codemirror_mode": {
    "name": "ipython",
    "version": 3
   },
   "file_extension": ".py",
   "mimetype": "text/x-python",
   "name": "python",
   "nbconvert_exporter": "python",
   "pygments_lexer": "ipython3",
   "version": "3.5.2"
  }
 },
 "nbformat": 4,
 "nbformat_minor": 2
}
